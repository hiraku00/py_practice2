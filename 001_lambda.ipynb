{
 "cells": [
  {
   "cell_type": "code",
   "execution_count": 6,
   "metadata": {},
   "outputs": [],
   "source": [
    "# https://www.sejuku.net/blog/23677"
   ]
  },
  {
   "cell_type": "markdown",
   "metadata": {},
   "source": [
    "### lambda式の基本的な書き方\n",
    "#### 商品の価格と消費税(8%)を入れて支払い代金を計算する処理を実装するとします"
   ]
  },
  {
   "cell_type": "code",
   "execution_count": 12,
   "metadata": {},
   "outputs": [],
   "source": [
    "#lambda式を使わずに通常の関数を用いる場合\n",
    "def func(price, tax):\n",
    "    return price + (price * tax)"
   ]
  },
  {
   "cell_type": "code",
   "execution_count": 13,
   "metadata": {},
   "outputs": [
    {
     "data": {
      "text/plain": [
       "108.0"
      ]
     },
     "execution_count": 13,
     "metadata": {},
     "output_type": "execute_result"
    }
   ],
   "source": [
    "payment1 = func(100, 0.08)\n",
    "payment1"
   ]
  },
  {
   "cell_type": "code",
   "execution_count": 14,
   "metadata": {},
   "outputs": [
    {
     "data": {
      "text/plain": [
       "108.0"
      ]
     },
     "execution_count": 14,
     "metadata": {},
     "output_type": "execute_result"
    }
   ],
   "source": [
    "#lambda式を用いる場合\n",
    "payment2 = (lambda price, tax: price + (price * tax))(100, 0.08)\n",
    "payment2"
   ]
  },
  {
   "cell_type": "code",
   "execution_count": 7,
   "metadata": {},
   "outputs": [
    {
     "data": {
      "text/plain": [
       "'\\nlambda式を使用しない場合、まず価格と消費税を掛け合わせて支払い代金を計算する関数(func)を定義しています。\\nその後、関数(func)の引数に実際の値(100,0.08)を設定し、その結果を変数(payment1)に格納しています。\\n一方、lambda式を用いる場合は、defによる関数定義は登場せず、代わりにlambdaと書いて、その横に引数そして、セミコロン(:)の後に引数を使用した処理内容という形式にて書くことができます。\\n\\n#lambda式の形式\\nlambda 引数:処理内容\\n\\n#lambda式の形式\\nlambda 引数:処理内容\\nまずはこの基本的な書き方を覚えてください。\\n'"
      ]
     },
     "execution_count": 7,
     "metadata": {},
     "output_type": "execute_result"
    }
   ],
   "source": [
    "'''\n",
    "lambda式を使用しない場合、まず価格と消費税を掛け合わせて支払い代金を計算する関数(func)を定義しています。\n",
    "その後、関数(func)の引数に実際の値(100,0.08)を設定し、その結果を変数(payment1)に格納しています。\n",
    "一方、lambda式を用いる場合は、defによる関数定義は登場せず、代わりにlambdaと書いて、\n",
    "その横に引数そして、セミコロン(:)の後に引数を使用した処理内容という形式にて書くことができます。\n",
    "\n",
    "#lambda式の形式\n",
    "lambda 引数:処理内容\n",
    "\n",
    "まずはこの基本的な書き方を覚えてください。\n",
    "'''"
   ]
  },
  {
   "cell_type": "markdown",
   "metadata": {},
   "source": [
    "### 引数なしのlambda式の書き方"
   ]
  },
  {
   "cell_type": "code",
   "execution_count": 8,
   "metadata": {},
   "outputs": [
    {
     "data": {
      "text/plain": [
       "'\\nlambda式では引数を与えられて、その引数を使い処理を行い、その結果を返すことが基本です。\\nですが、引数なしの処理も以下のように書くことはできます。\\n'"
      ]
     },
     "execution_count": 8,
     "metadata": {},
     "output_type": "execute_result"
    }
   ],
   "source": [
    "'''\n",
    "lambda式では引数を与えられて、その引数を使い処理を行い、その結果を返すことが基本です。\n",
    "ですが、引数なしの処理も以下のように書くことはできます。\n",
    "'''"
   ]
  },
  {
   "cell_type": "code",
   "execution_count": 9,
   "metadata": {},
   "outputs": [
    {
     "data": {
      "text/plain": [
       "'hello'"
      ]
     },
     "execution_count": 9,
     "metadata": {},
     "output_type": "execute_result"
    }
   ],
   "source": [
    "#引数なしのlambda式\n",
    "greeting = (lambda: 'hello')()\n",
    "greeting"
   ]
  },
  {
   "cell_type": "markdown",
   "metadata": {},
   "source": [
    "## lambda式の実践的な使い方"
   ]
  },
  {
   "cell_type": "markdown",
   "metadata": {},
   "source": [
    "### lambda式でfor文処理を実装する方法"
   ]
  },
  {
   "cell_type": "code",
   "execution_count": 16,
   "metadata": {},
   "outputs": [
    {
     "data": {
      "text/plain": [
       "'\\n例えば、様々な商品の価格を抜き出したリストがあり、そのリスト対して、消費税を上乗せした価格情報を取得する処理を実装するとします。\\nその場合、商品価格のリストをfor文を使用して以下のように実装することができます。\\n'"
      ]
     },
     "execution_count": 16,
     "metadata": {},
     "output_type": "execute_result"
    }
   ],
   "source": [
    "'''\n",
    "例えば、様々な商品の価格を抜き出したリストがあり、そのリスト対して、消費税を上乗せした価格情報を取得する処理を実装するとします。\n",
    "その場合、商品価格のリストをfor文を使用して以下のように実装することができます。\n",
    "'''"
   ]
  },
  {
   "cell_type": "code",
   "execution_count": 24,
   "metadata": {},
   "outputs": [],
   "source": [
    "prices = [3000, 2500, 10500, 4300]\n",
    "payment_list = []"
   ]
  },
  {
   "cell_type": "code",
   "execution_count": 25,
   "metadata": {},
   "outputs": [],
   "source": [
    "for price in prices:\n",
    "    payment_list.append(price * 1.08)"
   ]
  },
  {
   "cell_type": "code",
   "execution_count": 26,
   "metadata": {},
   "outputs": [
    {
     "data": {
      "text/plain": [
       "[3240.0, 2700.0, 11340.0, 4644.0]"
      ]
     },
     "execution_count": 26,
     "metadata": {},
     "output_type": "execute_result"
    }
   ],
   "source": [
    "payment_list"
   ]
  },
  {
   "cell_type": "code",
   "execution_count": 21,
   "metadata": {},
   "outputs": [
    {
     "data": {
      "text/plain": [
       "'\\n同じ処理内容を今度はlambda式を利用して実装します。\\nその際に、合わせて利用する関数がmap関数です。\\nmap関数は第一引数に処理内容、第二引数に処理対象のリストを指定します。\\n'"
      ]
     },
     "execution_count": 21,
     "metadata": {},
     "output_type": "execute_result"
    }
   ],
   "source": [
    "'''\n",
    "同じ処理内容を今度はlambda式を利用して実装します。\n",
    "その際に、合わせて利用する関数がmap関数です。\n",
    "map関数は第一引数に処理内容、第二引数に処理対象のリストを指定します。\n",
    "'''"
   ]
  },
  {
   "cell_type": "code",
   "execution_count": 27,
   "metadata": {},
   "outputs": [],
   "source": [
    "payment_list = []\n",
    "payment_list = list(map(lambda price: price * 1.08, prices))"
   ]
  },
  {
   "cell_type": "code",
   "execution_count": 28,
   "metadata": {},
   "outputs": [
    {
     "data": {
      "text/plain": [
       "[3240.0, 2700.0, 11340.0, 4644.0]"
      ]
     },
     "execution_count": 28,
     "metadata": {},
     "output_type": "execute_result"
    }
   ],
   "source": [
    "payment_list"
   ]
  },
  {
   "cell_type": "markdown",
   "metadata": {},
   "source": [
    "このようにlambda式とmap関数を併用することで、for文の処理を実装することが可能です。"
   ]
  },
  {
   "cell_type": "markdown",
   "metadata": {},
   "source": [
    "### lambda式でif文処理を実装する方法"
   ]
  },
  {
   "cell_type": "code",
   "execution_count": 29,
   "metadata": {},
   "outputs": [
    {
     "data": {
      "text/plain": [
       "'\\n次にfor文でリストの要素を一つ一つ処理する際に、if文の条件が入るケースについてもlambda式を活用できます。\\n同じく例として様々な商品の価格を抜き出したリストがあり、そのリストからある金額以上のものを抜き出し、\\n価格の安い順に並べた情報を取得するプログラムを実装するとします。\\nこちらもまずはlambda式を用いない場合の実装方法の例をみていただきましょう。\\n'"
      ]
     },
     "execution_count": 29,
     "metadata": {},
     "output_type": "execute_result"
    }
   ],
   "source": [
    "'''\n",
    "次にfor文でリストの要素を一つ一つ処理する際に、if文の条件が入るケースについてもlambda式を活用できます。\n",
    "同じく例として様々な商品の価格を抜き出したリストがあり、そのリストからある金額以上のものを抜き出し、\n",
    "価格の安い順に並べた情報を取得するプログラムを実装するとします。\n",
    "こちらもまずはlambda式を用いない場合の実装方法の例をみていただきましょう。\n",
    "'''"
   ]
  },
  {
   "cell_type": "code",
   "execution_count": 35,
   "metadata": {},
   "outputs": [],
   "source": [
    "prices = [3000, 2500, 10500, 4300]\n",
    "payment_list = []"
   ]
  },
  {
   "cell_type": "code",
   "execution_count": 36,
   "metadata": {},
   "outputs": [
    {
     "data": {
      "text/plain": [
       "[4300, 10500]"
      ]
     },
     "execution_count": 36,
     "metadata": {},
     "output_type": "execute_result"
    }
   ],
   "source": [
    "# lambda式を使わない\n",
    "for price in prices:\n",
    "    if price > 3500:\n",
    "        payment_list.append(price)\n",
    "\n",
    "payment_list.sort()\n",
    "payment_list"
   ]
  },
  {
   "cell_type": "code",
   "execution_count": 37,
   "metadata": {},
   "outputs": [],
   "source": [
    "payment_list = []"
   ]
  },
  {
   "cell_type": "code",
   "execution_count": 38,
   "metadata": {},
   "outputs": [
    {
     "data": {
      "text/plain": [
       "[4300, 10500]"
      ]
     },
     "execution_count": 38,
     "metadata": {},
     "output_type": "execute_result"
    }
   ],
   "source": [
    "# lambda式を使う\n",
    "payment_list = list(filter(lambda price: price > 3500, prices))\n",
    "payment_list.sort()\n",
    "payment_list"
   ]
  },
  {
   "cell_type": "code",
   "execution_count": 39,
   "metadata": {},
   "outputs": [
    {
     "data": {
      "text/plain": [
       "'\\n上記サンプルにてlambda式と合わせてlist関数とfilter関数を使用しました。\\nlist関数は引数の値をlist型へ変換し、その後、sort()関数にて並び替えを行うために使用しています。\\nそして、filter関数は第二引数に指定された配列の各要素に対して、第一引数の関数処理を実施し、Trueとなるものだけを抽出する処理を行なっています。\\nこれまで見ていただいたmap関数とfilter関数と合わせて活用したlambda式は、特に無名関数と呼ばれる使い方となります。\\n'"
      ]
     },
     "execution_count": 39,
     "metadata": {},
     "output_type": "execute_result"
    }
   ],
   "source": [
    "'''\n",
    "上記サンプルにてlambda式と合わせてlist関数とfilter関数を使用しました。\n",
    "list関数は引数の値をlist型へ変換し、その後、sort()関数にて並び替えを行うために使用しています。\n",
    "そして、filter関数は第二引数に指定された配列の各要素に対して、第一引数の関数処理を実施し、Trueとなるものだけを抽出する処理を行なっています。\n",
    "これまで見ていただいたmap関数とfilter関数と合わせて活用したlambda式は、特に無名関数と呼ばれる使い方となります。\n",
    "'''"
   ]
  },
  {
   "cell_type": "code",
   "execution_count": 40,
   "metadata": {},
   "outputs": [
    {
     "data": {
      "text/plain": [
       "'\\n下記の通り名前がある関数(checkPrice)を使用した処理とは対照的にlambda式では関数名を定義せずに使用することができることから無名関数と呼ばれています。\\n'"
      ]
     },
     "execution_count": 40,
     "metadata": {},
     "output_type": "execute_result"
    }
   ],
   "source": [
    "'''\n",
    "下記の通り名前がある関数(checkPrice)を使用した処理とは対照的にlambda式では関数名を定義せずに使用することができることから無名関数と呼ばれています。\n",
    "'''"
   ]
  },
  {
   "cell_type": "code",
   "execution_count": 41,
   "metadata": {},
   "outputs": [],
   "source": [
    "def checkPrice(price):\n",
    "    return price > 3500"
   ]
  },
  {
   "cell_type": "code",
   "execution_count": 42,
   "metadata": {},
   "outputs": [
    {
     "data": {
      "text/plain": [
       "[4300, 10500]"
      ]
     },
     "execution_count": 42,
     "metadata": {},
     "output_type": "execute_result"
    }
   ],
   "source": [
    "payment_list = list(filter(checkPrice, prices))\n",
    "payment_list.sort()\n",
    "payment_list"
   ]
  },
  {
   "cell_type": "code",
   "execution_count": null,
   "metadata": {},
   "outputs": [],
   "source": []
  }
 ],
 "metadata": {
  "kernelspec": {
   "display_name": "Python 3",
   "language": "python",
   "name": "python3"
  },
  "language_info": {
   "codemirror_mode": {
    "name": "ipython",
    "version": 3
   },
   "file_extension": ".py",
   "mimetype": "text/x-python",
   "name": "python",
   "nbconvert_exporter": "python",
   "pygments_lexer": "ipython3",
   "version": "3.6.3"
  }
 },
 "nbformat": 4,
 "nbformat_minor": 2
}
